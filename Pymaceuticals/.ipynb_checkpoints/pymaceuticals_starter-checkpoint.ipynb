{
 "cells": [
  {
   "cell_type": "markdown",
   "metadata": {},
   "source": [
    "## Observations and Insights \n",
    "1. There are 249 mice but only 248 of them were studied. One female mouse was droppred due to duplication. From the complete data set 49.8% were female mice. Out of 248, 49.6% were female mice. Ten different drug regimens were used. \n",
    "2. There were two drug regimens, Ramicane and Capomulin performed better than other drug regimens. They were able to reduce the tumor volume over the time.\n",
    "3. Some correlation could be seen between the mouse weight and the average tumor volume.\n",
    "4. The no. mice stuidied throughout the whole time period (i.e. up to Timepint = 45) is as follows:\n",
    "\n",
    "    Drug Regimen\n",
    "    Capomulin    21\n",
    "    Ceftamin     13\n",
    "    Infubinol     9\n",
    "    Ketapril     11\n",
    "    Naftisol     13\n",
    "    Placebo      11\n",
    "    Propriva      7\n",
    "    Ramicane     20\n",
    "    Stelasyn     11\n",
    "    Zoniferol    14\n",
    "\n",
    "It is clear that number of mice tested is not sufficient to obtain a statistically significant result."
   ]
  },
  {
   "cell_type": "code",
   "execution_count": null,
   "metadata": {},
   "outputs": [],
   "source": []
  },
  {
   "cell_type": "markdown",
   "metadata": {},
   "source": []
  },
  {
   "cell_type": "code",
   "execution_count": 538,
   "metadata": {},
   "outputs": [
    {
     "data": {
      "text/html": [
       "<div>\n",
       "<style scoped>\n",
       "    .dataframe tbody tr th:only-of-type {\n",
       "        vertical-align: middle;\n",
       "    }\n",
       "\n",
       "    .dataframe tbody tr th {\n",
       "        vertical-align: top;\n",
       "    }\n",
       "\n",
       "    .dataframe thead th {\n",
       "        text-align: right;\n",
       "    }\n",
       "</style>\n",
       "<table border=\"1\" class=\"dataframe\">\n",
       "  <thead>\n",
       "    <tr style=\"text-align: right;\">\n",
       "      <th></th>\n",
       "      <th>Mouse ID</th>\n",
       "      <th>Drug Regimen</th>\n",
       "      <th>Sex</th>\n",
       "      <th>Age_months</th>\n",
       "      <th>Weight (g)</th>\n",
       "      <th>Timepoint</th>\n",
       "      <th>Tumor Volume (mm3)</th>\n",
       "      <th>Metastatic Sites</th>\n",
       "    </tr>\n",
       "  </thead>\n",
       "  <tbody>\n",
       "    <tr>\n",
       "      <th>493</th>\n",
       "      <td>a275</td>\n",
       "      <td>Ceftamin</td>\n",
       "      <td>Female</td>\n",
       "      <td>20</td>\n",
       "      <td>28</td>\n",
       "      <td>45</td>\n",
       "      <td>62.999356</td>\n",
       "      <td>3</td>\n",
       "    </tr>\n",
       "    <tr>\n",
       "      <th>993</th>\n",
       "      <td>j296</td>\n",
       "      <td>Ceftamin</td>\n",
       "      <td>Female</td>\n",
       "      <td>24</td>\n",
       "      <td>30</td>\n",
       "      <td>45</td>\n",
       "      <td>61.849023</td>\n",
       "      <td>3</td>\n",
       "    </tr>\n",
       "    <tr>\n",
       "      <th>1033</th>\n",
       "      <td>k210</td>\n",
       "      <td>Ceftamin</td>\n",
       "      <td>Male</td>\n",
       "      <td>15</td>\n",
       "      <td>28</td>\n",
       "      <td>45</td>\n",
       "      <td>68.923185</td>\n",
       "      <td>3</td>\n",
       "    </tr>\n",
       "    <tr>\n",
       "      <th>1112</th>\n",
       "      <td>l471</td>\n",
       "      <td>Ceftamin</td>\n",
       "      <td>Female</td>\n",
       "      <td>7</td>\n",
       "      <td>28</td>\n",
       "      <td>45</td>\n",
       "      <td>67.748662</td>\n",
       "      <td>1</td>\n",
       "    </tr>\n",
       "    <tr>\n",
       "      <th>1132</th>\n",
       "      <td>l661</td>\n",
       "      <td>Ceftamin</td>\n",
       "      <td>Male</td>\n",
       "      <td>18</td>\n",
       "      <td>26</td>\n",
       "      <td>45</td>\n",
       "      <td>59.851956</td>\n",
       "      <td>3</td>\n",
       "    </tr>\n",
       "    <tr>\n",
       "      <th>1162</th>\n",
       "      <td>l733</td>\n",
       "      <td>Ceftamin</td>\n",
       "      <td>Female</td>\n",
       "      <td>4</td>\n",
       "      <td>30</td>\n",
       "      <td>45</td>\n",
       "      <td>64.299830</td>\n",
       "      <td>1</td>\n",
       "    </tr>\n",
       "    <tr>\n",
       "      <th>1260</th>\n",
       "      <td>o287</td>\n",
       "      <td>Ceftamin</td>\n",
       "      <td>Male</td>\n",
       "      <td>2</td>\n",
       "      <td>28</td>\n",
       "      <td>45</td>\n",
       "      <td>59.741901</td>\n",
       "      <td>4</td>\n",
       "    </tr>\n",
       "    <tr>\n",
       "      <th>1379</th>\n",
       "      <td>p438</td>\n",
       "      <td>Ceftamin</td>\n",
       "      <td>Female</td>\n",
       "      <td>11</td>\n",
       "      <td>26</td>\n",
       "      <td>45</td>\n",
       "      <td>61.433892</td>\n",
       "      <td>1</td>\n",
       "    </tr>\n",
       "    <tr>\n",
       "      <th>1670</th>\n",
       "      <td>w151</td>\n",
       "      <td>Ceftamin</td>\n",
       "      <td>Male</td>\n",
       "      <td>24</td>\n",
       "      <td>25</td>\n",
       "      <td>45</td>\n",
       "      <td>67.527482</td>\n",
       "      <td>3</td>\n",
       "    </tr>\n",
       "    <tr>\n",
       "      <th>1773</th>\n",
       "      <td>x581</td>\n",
       "      <td>Ceftamin</td>\n",
       "      <td>Female</td>\n",
       "      <td>19</td>\n",
       "      <td>28</td>\n",
       "      <td>45</td>\n",
       "      <td>64.634949</td>\n",
       "      <td>3</td>\n",
       "    </tr>\n",
       "    <tr>\n",
       "      <th>1797</th>\n",
       "      <td>x822</td>\n",
       "      <td>Ceftamin</td>\n",
       "      <td>Male</td>\n",
       "      <td>3</td>\n",
       "      <td>29</td>\n",
       "      <td>45</td>\n",
       "      <td>61.386660</td>\n",
       "      <td>3</td>\n",
       "    </tr>\n",
       "    <tr>\n",
       "      <th>1845</th>\n",
       "      <td>y769</td>\n",
       "      <td>Ceftamin</td>\n",
       "      <td>Female</td>\n",
       "      <td>6</td>\n",
       "      <td>27</td>\n",
       "      <td>45</td>\n",
       "      <td>68.594745</td>\n",
       "      <td>4</td>\n",
       "    </tr>\n",
       "    <tr>\n",
       "      <th>1855</th>\n",
       "      <td>y865</td>\n",
       "      <td>Ceftamin</td>\n",
       "      <td>Male</td>\n",
       "      <td>23</td>\n",
       "      <td>26</td>\n",
       "      <td>45</td>\n",
       "      <td>64.729837</td>\n",
       "      <td>3</td>\n",
       "    </tr>\n",
       "  </tbody>\n",
       "</table>\n",
       "</div>"
      ],
      "text/plain": [
       "     Mouse ID Drug Regimen     Sex  Age_months  Weight (g)  Timepoint  \\\n",
       "493      a275     Ceftamin  Female          20          28         45   \n",
       "993      j296     Ceftamin  Female          24          30         45   \n",
       "1033     k210     Ceftamin    Male          15          28         45   \n",
       "1112     l471     Ceftamin  Female           7          28         45   \n",
       "1132     l661     Ceftamin    Male          18          26         45   \n",
       "1162     l733     Ceftamin  Female           4          30         45   \n",
       "1260     o287     Ceftamin    Male           2          28         45   \n",
       "1379     p438     Ceftamin  Female          11          26         45   \n",
       "1670     w151     Ceftamin    Male          24          25         45   \n",
       "1773     x581     Ceftamin  Female          19          28         45   \n",
       "1797     x822     Ceftamin    Male           3          29         45   \n",
       "1845     y769     Ceftamin  Female           6          27         45   \n",
       "1855     y865     Ceftamin    Male          23          26         45   \n",
       "\n",
       "      Tumor Volume (mm3)  Metastatic Sites  \n",
       "493            62.999356                 3  \n",
       "993            61.849023                 3  \n",
       "1033           68.923185                 3  \n",
       "1112           67.748662                 1  \n",
       "1132           59.851956                 3  \n",
       "1162           64.299830                 1  \n",
       "1260           59.741901                 4  \n",
       "1379           61.433892                 1  \n",
       "1670           67.527482                 3  \n",
       "1773           64.634949                 3  \n",
       "1797           61.386660                 3  \n",
       "1845           68.594745                 4  \n",
       "1855           64.729837                 3  "
      ]
     },
     "execution_count": 538,
     "metadata": {},
     "output_type": "execute_result"
    }
   ],
   "source": [
    "#%matplotlib notebook\n",
    "# Dependencies and Setup\n",
    "import matplotlib.pyplot as plt\n",
    "import pandas as pd\n",
    "import numpy as np\n",
    "import scipy.stats as st\n",
    "from scipy.stats import linregress\n",
    "\n",
    "# Study data files\n",
    "mouse_metadata_path = \"data/Mouse_metadata.csv\"\n",
    "study_results_path = \"data/Study_results.csv\"\n",
    "\n",
    "# Read the mouse data and the study results\n",
    "mouse_metadata = pd.read_csv(mouse_metadata_path)\n",
    "study_results = pd.read_csv(study_results_path)\n",
    "\n",
    "# Combine the data into a single dataset\n",
    "combined_mousedata_df = pd.merge(mouse_metadata, study_results,\n",
    "                                 how='outer', on='Mouse ID')\n",
    "combined_mousedata1_df = pd.merge(mouse_metadata, study_results,\n",
    "                                 how='inner', on='Mouse ID')\n",
    "#study_results[\"Mouse ID\"].value_counts()\n",
    "#combined_mousedata_df\n",
    "combined_mousedata1_df\n",
    "#temp=combined_mousedata_df.loc[(combined_mousedata_df[\"Drug Regimen\"]==\"Ceftamin\")  & \n",
    "                           (combined_mousedata_df[\"Timepoint\"]==45)]\n",
    "\n",
    "#combined_mousedata1_df[combined_mousedata_df.duplicated([\"Mouse ID\",\"Timepoint\"])]\n",
    "#temp"
   ]
  },
  {
   "cell_type": "code",
   "execution_count": 518,
   "metadata": {},
   "outputs": [
    {
     "data": {
      "text/plain": [
       "249"
      ]
     },
     "execution_count": 518,
     "metadata": {},
     "output_type": "execute_result"
    }
   ],
   "source": [
    "# Checking the number of mice in the DataFrame.\n",
    "len(combined_mousedata_df[\"Mouse ID\"].value_counts())\n",
    "#combined_mousedata_df[\"Mouse ID\"].value_counts()"
   ]
  },
  {
   "cell_type": "code",
   "execution_count": 519,
   "metadata": {},
   "outputs": [
    {
     "data": {
      "text/plain": [
       "909    g989\n",
       "911    g989\n",
       "913    g989\n",
       "915    g989\n",
       "917    g989\n",
       "Name: Mouse ID, dtype: object"
      ]
     },
     "execution_count": 519,
     "metadata": {},
     "output_type": "execute_result"
    }
   ],
   "source": [
    "# Getting the duplicate mice by ID number that shows up for Mouse ID and Timepoint. \n",
    "#duplicated give the duplicated mouse ID's\n",
    "duplicate_id = combined_mousedata_df[combined_mousedata_df.duplicated([\"Mouse ID\",\"Timepoint\"])]\n",
    "#duplicate_timepoint = combined_mousedata_df[combined_mousedata_df.duplicated([\"Timepoint\"])]\n",
    "#I am doing this to display all the duplicated mouse ID's, option \"None\" prints all\n",
    "#if you want to display all the columns you can do 'display.max_columns' instead\n",
    "pd.set_option('display.max_rows', None)\n",
    "duplicate_id[\"Mouse ID\"]"
   ]
  },
  {
   "cell_type": "code",
   "execution_count": 520,
   "metadata": {},
   "outputs": [
    {
     "data": {
      "text/html": [
       "<div>\n",
       "<style scoped>\n",
       "    .dataframe tbody tr th:only-of-type {\n",
       "        vertical-align: middle;\n",
       "    }\n",
       "\n",
       "    .dataframe tbody tr th {\n",
       "        vertical-align: top;\n",
       "    }\n",
       "\n",
       "    .dataframe thead th {\n",
       "        text-align: right;\n",
       "    }\n",
       "</style>\n",
       "<table border=\"1\" class=\"dataframe\">\n",
       "  <thead>\n",
       "    <tr style=\"text-align: right;\">\n",
       "      <th></th>\n",
       "      <th>Mouse ID</th>\n",
       "      <th>Drug Regimen</th>\n",
       "      <th>Sex</th>\n",
       "      <th>Age_months</th>\n",
       "      <th>Weight (g)</th>\n",
       "      <th>Timepoint</th>\n",
       "      <th>Tumor Volume (mm3)</th>\n",
       "      <th>Metastatic Sites</th>\n",
       "    </tr>\n",
       "  </thead>\n",
       "  <tbody>\n",
       "    <tr>\n",
       "      <th>909</th>\n",
       "      <td>g989</td>\n",
       "      <td>Propriva</td>\n",
       "      <td>Female</td>\n",
       "      <td>21</td>\n",
       "      <td>26</td>\n",
       "      <td>0</td>\n",
       "      <td>45.000000</td>\n",
       "      <td>0</td>\n",
       "    </tr>\n",
       "    <tr>\n",
       "      <th>911</th>\n",
       "      <td>g989</td>\n",
       "      <td>Propriva</td>\n",
       "      <td>Female</td>\n",
       "      <td>21</td>\n",
       "      <td>26</td>\n",
       "      <td>5</td>\n",
       "      <td>47.570392</td>\n",
       "      <td>0</td>\n",
       "    </tr>\n",
       "    <tr>\n",
       "      <th>913</th>\n",
       "      <td>g989</td>\n",
       "      <td>Propriva</td>\n",
       "      <td>Female</td>\n",
       "      <td>21</td>\n",
       "      <td>26</td>\n",
       "      <td>10</td>\n",
       "      <td>49.880528</td>\n",
       "      <td>0</td>\n",
       "    </tr>\n",
       "    <tr>\n",
       "      <th>915</th>\n",
       "      <td>g989</td>\n",
       "      <td>Propriva</td>\n",
       "      <td>Female</td>\n",
       "      <td>21</td>\n",
       "      <td>26</td>\n",
       "      <td>15</td>\n",
       "      <td>53.442020</td>\n",
       "      <td>0</td>\n",
       "    </tr>\n",
       "    <tr>\n",
       "      <th>917</th>\n",
       "      <td>g989</td>\n",
       "      <td>Propriva</td>\n",
       "      <td>Female</td>\n",
       "      <td>21</td>\n",
       "      <td>26</td>\n",
       "      <td>20</td>\n",
       "      <td>54.657650</td>\n",
       "      <td>1</td>\n",
       "    </tr>\n",
       "  </tbody>\n",
       "</table>\n",
       "</div>"
      ],
      "text/plain": [
       "    Mouse ID Drug Regimen     Sex  Age_months  Weight (g)  Timepoint  \\\n",
       "909     g989     Propriva  Female          21          26          0   \n",
       "911     g989     Propriva  Female          21          26          5   \n",
       "913     g989     Propriva  Female          21          26         10   \n",
       "915     g989     Propriva  Female          21          26         15   \n",
       "917     g989     Propriva  Female          21          26         20   \n",
       "\n",
       "     Tumor Volume (mm3)  Metastatic Sites  \n",
       "909           45.000000                 0  \n",
       "911           47.570392                 0  \n",
       "913           49.880528                 0  \n",
       "915           53.442020                 0  \n",
       "917           54.657650                 1  "
      ]
     },
     "execution_count": 520,
     "metadata": {},
     "output_type": "execute_result"
    }
   ],
   "source": [
    "# Optional: Get all the data for the duplicate mouse ID. \n",
    "duplicate_id"
   ]
  },
  {
   "cell_type": "code",
   "execution_count": 521,
   "metadata": {},
   "outputs": [
    {
     "data": {
      "text/html": [
       "<div>\n",
       "<style scoped>\n",
       "    .dataframe tbody tr th:only-of-type {\n",
       "        vertical-align: middle;\n",
       "    }\n",
       "\n",
       "    .dataframe tbody tr th {\n",
       "        vertical-align: top;\n",
       "    }\n",
       "\n",
       "    .dataframe thead th {\n",
       "        text-align: right;\n",
       "    }\n",
       "</style>\n",
       "<table border=\"1\" class=\"dataframe\">\n",
       "  <thead>\n",
       "    <tr style=\"text-align: right;\">\n",
       "      <th></th>\n",
       "      <th>Mouse ID</th>\n",
       "      <th>Drug Regimen</th>\n",
       "      <th>Sex</th>\n",
       "      <th>Age_months</th>\n",
       "      <th>Weight (g)</th>\n",
       "      <th>Timepoint</th>\n",
       "      <th>Tumor Volume (mm3)</th>\n",
       "      <th>Metastatic Sites</th>\n",
       "    </tr>\n",
       "  </thead>\n",
       "  <tbody>\n",
       "    <tr>\n",
       "      <th>0</th>\n",
       "      <td>k403</td>\n",
       "      <td>Ramicane</td>\n",
       "      <td>Male</td>\n",
       "      <td>21</td>\n",
       "      <td>16</td>\n",
       "      <td>0</td>\n",
       "      <td>45.000000</td>\n",
       "      <td>0</td>\n",
       "    </tr>\n",
       "    <tr>\n",
       "      <th>1</th>\n",
       "      <td>k403</td>\n",
       "      <td>Ramicane</td>\n",
       "      <td>Male</td>\n",
       "      <td>21</td>\n",
       "      <td>16</td>\n",
       "      <td>5</td>\n",
       "      <td>38.825898</td>\n",
       "      <td>0</td>\n",
       "    </tr>\n",
       "    <tr>\n",
       "      <th>2</th>\n",
       "      <td>k403</td>\n",
       "      <td>Ramicane</td>\n",
       "      <td>Male</td>\n",
       "      <td>21</td>\n",
       "      <td>16</td>\n",
       "      <td>10</td>\n",
       "      <td>35.014271</td>\n",
       "      <td>1</td>\n",
       "    </tr>\n",
       "    <tr>\n",
       "      <th>3</th>\n",
       "      <td>k403</td>\n",
       "      <td>Ramicane</td>\n",
       "      <td>Male</td>\n",
       "      <td>21</td>\n",
       "      <td>16</td>\n",
       "      <td>15</td>\n",
       "      <td>34.223992</td>\n",
       "      <td>1</td>\n",
       "    </tr>\n",
       "    <tr>\n",
       "      <th>4</th>\n",
       "      <td>k403</td>\n",
       "      <td>Ramicane</td>\n",
       "      <td>Male</td>\n",
       "      <td>21</td>\n",
       "      <td>16</td>\n",
       "      <td>20</td>\n",
       "      <td>32.997729</td>\n",
       "      <td>1</td>\n",
       "    </tr>\n",
       "  </tbody>\n",
       "</table>\n",
       "</div>"
      ],
      "text/plain": [
       "  Mouse ID Drug Regimen   Sex  Age_months  Weight (g)  Timepoint  \\\n",
       "0     k403     Ramicane  Male          21          16          0   \n",
       "1     k403     Ramicane  Male          21          16          5   \n",
       "2     k403     Ramicane  Male          21          16         10   \n",
       "3     k403     Ramicane  Male          21          16         15   \n",
       "4     k403     Ramicane  Male          21          16         20   \n",
       "\n",
       "   Tumor Volume (mm3)  Metastatic Sites  \n",
       "0           45.000000                 0  \n",
       "1           38.825898                 0  \n",
       "2           35.014271                 1  \n",
       "3           34.223992                 1  \n",
       "4           32.997729                 1  "
      ]
     },
     "execution_count": 521,
     "metadata": {},
     "output_type": "execute_result"
    }
   ],
   "source": [
    "# Create a clean DataFrame by dropping the duplicate mouse by its ID.\n",
    "#this is to drop the multipple entries, if keep=False it will drop all entries. \n",
    "#If keep= \"first\" or \"last\" it will keep the 1st or last\n",
    "#zero_timepoint_data = combined_mousedata_df\n",
    "#zero_timepoint_data.drop_duplicates(subset =\"Mouse ID\", keep = \"first\", inplace = True) \n",
    "#zero_timepoint_data\n",
    "\n",
    "unique_timepoint_data = combined_mousedata_df\n",
    "#unique_timepoint_data=unique_timepoint_data[unique_timepoint_data.duplicated([\"Mouse ID\",\"Timepoint\"], keep=False)]\n",
    "#unique_timepoint_data=unique_timepoint_data.drop_duplicates(subset =[\"Mouse ID\",\"Timepoint]\", keep = \"last\", inplace = False)\n",
    "last_timepoint_data = unique_timepoint_data.loc[unique_timepoint_data['Mouse ID'] != 'g989']\n",
    "last_timepoint_data.head()"
   ]
  },
  {
   "cell_type": "code",
   "execution_count": 522,
   "metadata": {},
   "outputs": [
    {
     "data": {
      "text/plain": [
       "248"
      ]
     },
     "execution_count": 522,
     "metadata": {},
     "output_type": "execute_result"
    }
   ],
   "source": [
    "# Checking the number of mice in the clean DataFrame.\n",
    "len(last_timepoint_data[\"Mouse ID\"].unique())"
   ]
  },
  {
   "cell_type": "markdown",
   "metadata": {},
   "source": [
    "## Summary Statistics"
   ]
  },
  {
   "cell_type": "code",
   "execution_count": 523,
   "metadata": {},
   "outputs": [],
   "source": [
    "# Generate a summary statistics table of mean, median, variance, standard deviation, and SEM of the tumor volume for each regimen\n",
    "\n",
    "# This method is the most straighforward, creating multiple series and putting them all together at the end.\n",
    "last_timepoint_data[\"Drug Regimen\"].unique()\n",
    "grouped_data = last_timepoint_data.groupby('Drug Regimen')\n",
    "mean= grouped_data[\"Tumor Volume (mm3)\"].mean()\n",
    "median= grouped_data[\"Tumor Volume (mm3)\"].median()\n",
    "mean, median\n",
    "variance = grouped_data[\"Tumor Volume (mm3)\"].var()\n",
    "st_deviation = grouped_data[\"Tumor Volume (mm3)\"].std()\n",
    "variance, st_deviation\n",
    "SEM = grouped_data[\"Tumor Volume (mm3)\"].sem()\n"
   ]
  },
  {
   "cell_type": "code",
   "execution_count": 524,
   "metadata": {
    "scrolled": true
   },
   "outputs": [
    {
     "data": {
      "text/html": [
       "<style  type=\"text/css\" >\n",
       "</style><table id=\"T_7f140a98_7d08_11ea_a368_faffc25d0859\" ><thead>    <tr>        <th class=\"blank level0\" ></th>        <th class=\"col_heading level0 col0\" >Mean</th>        <th class=\"col_heading level0 col1\" >Median</th>        <th class=\"col_heading level0 col2\" >Variance</th>        <th class=\"col_heading level0 col3\" >Standard Deviation</th>        <th class=\"col_heading level0 col4\" >SEM</th>    </tr>    <tr>        <th class=\"index_name level0\" >Drug Regimen</th>        <th class=\"blank\" ></th>        <th class=\"blank\" ></th>        <th class=\"blank\" ></th>        <th class=\"blank\" ></th>        <th class=\"blank\" ></th>    </tr></thead><tbody>\n",
       "                <tr>\n",
       "                        <th id=\"T_7f140a98_7d08_11ea_a368_faffc25d0859level0_row0\" class=\"row_heading level0 row0\" >Capomulin</th>\n",
       "                        <td id=\"T_7f140a98_7d08_11ea_a368_faffc25d0859row0_col0\" class=\"data row0 col0\" >40.68</td>\n",
       "                        <td id=\"T_7f140a98_7d08_11ea_a368_faffc25d0859row0_col1\" class=\"data row0 col1\" >41.56</td>\n",
       "                        <td id=\"T_7f140a98_7d08_11ea_a368_faffc25d0859row0_col2\" class=\"data row0 col2\" >24.95</td>\n",
       "                        <td id=\"T_7f140a98_7d08_11ea_a368_faffc25d0859row0_col3\" class=\"data row0 col3\" >4.99</td>\n",
       "                        <td id=\"T_7f140a98_7d08_11ea_a368_faffc25d0859row0_col4\" class=\"data row0 col4\" >0.33</td>\n",
       "            </tr>\n",
       "            <tr>\n",
       "                        <th id=\"T_7f140a98_7d08_11ea_a368_faffc25d0859level0_row1\" class=\"row_heading level0 row1\" >Ceftamin</th>\n",
       "                        <td id=\"T_7f140a98_7d08_11ea_a368_faffc25d0859row1_col0\" class=\"data row1 col0\" >52.59</td>\n",
       "                        <td id=\"T_7f140a98_7d08_11ea_a368_faffc25d0859row1_col1\" class=\"data row1 col1\" >51.78</td>\n",
       "                        <td id=\"T_7f140a98_7d08_11ea_a368_faffc25d0859row1_col2\" class=\"data row1 col2\" >39.29</td>\n",
       "                        <td id=\"T_7f140a98_7d08_11ea_a368_faffc25d0859row1_col3\" class=\"data row1 col3\" >6.27</td>\n",
       "                        <td id=\"T_7f140a98_7d08_11ea_a368_faffc25d0859row1_col4\" class=\"data row1 col4\" >0.47</td>\n",
       "            </tr>\n",
       "            <tr>\n",
       "                        <th id=\"T_7f140a98_7d08_11ea_a368_faffc25d0859level0_row2\" class=\"row_heading level0 row2\" >Infubinol</th>\n",
       "                        <td id=\"T_7f140a98_7d08_11ea_a368_faffc25d0859row2_col0\" class=\"data row2 col0\" >52.88</td>\n",
       "                        <td id=\"T_7f140a98_7d08_11ea_a368_faffc25d0859row2_col1\" class=\"data row2 col1\" >51.82</td>\n",
       "                        <td id=\"T_7f140a98_7d08_11ea_a368_faffc25d0859row2_col2\" class=\"data row2 col2\" >43.13</td>\n",
       "                        <td id=\"T_7f140a98_7d08_11ea_a368_faffc25d0859row2_col3\" class=\"data row2 col3\" >6.57</td>\n",
       "                        <td id=\"T_7f140a98_7d08_11ea_a368_faffc25d0859row2_col4\" class=\"data row2 col4\" >0.49</td>\n",
       "            </tr>\n",
       "            <tr>\n",
       "                        <th id=\"T_7f140a98_7d08_11ea_a368_faffc25d0859level0_row3\" class=\"row_heading level0 row3\" >Ketapril</th>\n",
       "                        <td id=\"T_7f140a98_7d08_11ea_a368_faffc25d0859row3_col0\" class=\"data row3 col0\" >55.24</td>\n",
       "                        <td id=\"T_7f140a98_7d08_11ea_a368_faffc25d0859row3_col1\" class=\"data row3 col1\" >53.70</td>\n",
       "                        <td id=\"T_7f140a98_7d08_11ea_a368_faffc25d0859row3_col2\" class=\"data row3 col2\" >68.55</td>\n",
       "                        <td id=\"T_7f140a98_7d08_11ea_a368_faffc25d0859row3_col3\" class=\"data row3 col3\" >8.28</td>\n",
       "                        <td id=\"T_7f140a98_7d08_11ea_a368_faffc25d0859row3_col4\" class=\"data row3 col4\" >0.60</td>\n",
       "            </tr>\n",
       "            <tr>\n",
       "                        <th id=\"T_7f140a98_7d08_11ea_a368_faffc25d0859level0_row4\" class=\"row_heading level0 row4\" >Naftisol</th>\n",
       "                        <td id=\"T_7f140a98_7d08_11ea_a368_faffc25d0859row4_col0\" class=\"data row4 col0\" >54.33</td>\n",
       "                        <td id=\"T_7f140a98_7d08_11ea_a368_faffc25d0859row4_col1\" class=\"data row4 col1\" >52.51</td>\n",
       "                        <td id=\"T_7f140a98_7d08_11ea_a368_faffc25d0859row4_col2\" class=\"data row4 col2\" >66.17</td>\n",
       "                        <td id=\"T_7f140a98_7d08_11ea_a368_faffc25d0859row4_col3\" class=\"data row4 col3\" >8.13</td>\n",
       "                        <td id=\"T_7f140a98_7d08_11ea_a368_faffc25d0859row4_col4\" class=\"data row4 col4\" >0.60</td>\n",
       "            </tr>\n",
       "            <tr>\n",
       "                        <th id=\"T_7f140a98_7d08_11ea_a368_faffc25d0859level0_row5\" class=\"row_heading level0 row5\" >Placebo</th>\n",
       "                        <td id=\"T_7f140a98_7d08_11ea_a368_faffc25d0859row5_col0\" class=\"data row5 col0\" >54.03</td>\n",
       "                        <td id=\"T_7f140a98_7d08_11ea_a368_faffc25d0859row5_col1\" class=\"data row5 col1\" >52.29</td>\n",
       "                        <td id=\"T_7f140a98_7d08_11ea_a368_faffc25d0859row5_col2\" class=\"data row5 col2\" >61.17</td>\n",
       "                        <td id=\"T_7f140a98_7d08_11ea_a368_faffc25d0859row5_col3\" class=\"data row5 col3\" >7.82</td>\n",
       "                        <td id=\"T_7f140a98_7d08_11ea_a368_faffc25d0859row5_col4\" class=\"data row5 col4\" >0.58</td>\n",
       "            </tr>\n",
       "            <tr>\n",
       "                        <th id=\"T_7f140a98_7d08_11ea_a368_faffc25d0859level0_row6\" class=\"row_heading level0 row6\" >Propriva</th>\n",
       "                        <td id=\"T_7f140a98_7d08_11ea_a368_faffc25d0859row6_col0\" class=\"data row6 col0\" >52.32</td>\n",
       "                        <td id=\"T_7f140a98_7d08_11ea_a368_faffc25d0859row6_col1\" class=\"data row6 col1\" >50.45</td>\n",
       "                        <td id=\"T_7f140a98_7d08_11ea_a368_faffc25d0859row6_col2\" class=\"data row6 col2\" >43.85</td>\n",
       "                        <td id=\"T_7f140a98_7d08_11ea_a368_faffc25d0859row6_col3\" class=\"data row6 col3\" >6.62</td>\n",
       "                        <td id=\"T_7f140a98_7d08_11ea_a368_faffc25d0859row6_col4\" class=\"data row6 col4\" >0.54</td>\n",
       "            </tr>\n",
       "            <tr>\n",
       "                        <th id=\"T_7f140a98_7d08_11ea_a368_faffc25d0859level0_row7\" class=\"row_heading level0 row7\" >Ramicane</th>\n",
       "                        <td id=\"T_7f140a98_7d08_11ea_a368_faffc25d0859row7_col0\" class=\"data row7 col0\" >40.22</td>\n",
       "                        <td id=\"T_7f140a98_7d08_11ea_a368_faffc25d0859row7_col1\" class=\"data row7 col1\" >40.67</td>\n",
       "                        <td id=\"T_7f140a98_7d08_11ea_a368_faffc25d0859row7_col2\" class=\"data row7 col2\" >23.49</td>\n",
       "                        <td id=\"T_7f140a98_7d08_11ea_a368_faffc25d0859row7_col3\" class=\"data row7 col3\" >4.85</td>\n",
       "                        <td id=\"T_7f140a98_7d08_11ea_a368_faffc25d0859row7_col4\" class=\"data row7 col4\" >0.32</td>\n",
       "            </tr>\n",
       "            <tr>\n",
       "                        <th id=\"T_7f140a98_7d08_11ea_a368_faffc25d0859level0_row8\" class=\"row_heading level0 row8\" >Stelasyn</th>\n",
       "                        <td id=\"T_7f140a98_7d08_11ea_a368_faffc25d0859row8_col0\" class=\"data row8 col0\" >54.23</td>\n",
       "                        <td id=\"T_7f140a98_7d08_11ea_a368_faffc25d0859row8_col1\" class=\"data row8 col1\" >52.43</td>\n",
       "                        <td id=\"T_7f140a98_7d08_11ea_a368_faffc25d0859row8_col2\" class=\"data row8 col2\" >59.45</td>\n",
       "                        <td id=\"T_7f140a98_7d08_11ea_a368_faffc25d0859row8_col3\" class=\"data row8 col3\" >7.71</td>\n",
       "                        <td id=\"T_7f140a98_7d08_11ea_a368_faffc25d0859row8_col4\" class=\"data row8 col4\" >0.57</td>\n",
       "            </tr>\n",
       "            <tr>\n",
       "                        <th id=\"T_7f140a98_7d08_11ea_a368_faffc25d0859level0_row9\" class=\"row_heading level0 row9\" >Zoniferol</th>\n",
       "                        <td id=\"T_7f140a98_7d08_11ea_a368_faffc25d0859row9_col0\" class=\"data row9 col0\" >53.24</td>\n",
       "                        <td id=\"T_7f140a98_7d08_11ea_a368_faffc25d0859row9_col1\" class=\"data row9 col1\" >51.82</td>\n",
       "                        <td id=\"T_7f140a98_7d08_11ea_a368_faffc25d0859row9_col2\" class=\"data row9 col2\" >48.53</td>\n",
       "                        <td id=\"T_7f140a98_7d08_11ea_a368_faffc25d0859row9_col3\" class=\"data row9 col3\" >6.97</td>\n",
       "                        <td id=\"T_7f140a98_7d08_11ea_a368_faffc25d0859row9_col4\" class=\"data row9 col4\" >0.52</td>\n",
       "            </tr>\n",
       "    </tbody></table>"
      ],
      "text/plain": [
       "<pandas.io.formats.style.Styler at 0x12beaa550>"
      ]
     },
     "execution_count": 524,
     "metadata": {},
     "output_type": "execute_result"
    }
   ],
   "source": [
    "# Generate a summary statistics table of mean, median, variance, standard deviation, and SEM of the tumor volume for each regimen\n",
    "Summary_stat = pd.DataFrame({\"Mean\": mean, \n",
    "                            \"Median\":median, \n",
    "                            \"Variance\":variance,\n",
    "                            \"Standard Deviation\":st_deviation,\n",
    "                            \"SEM\":SEM})\n",
    "Summary_stat\n",
    "formatted_Summary_stat = Summary_stat.style.format({\"Mean\":\"{:,.2f}\",\n",
    "                                 \"Median\":\"{:,.2f}\",\n",
    "                                 \"Variance\":\"{:,.2f}\",\n",
    "                                 \"Standard Deviation\":\"{:,.2f}\",\n",
    "                                 \"SEM\":\"{:,.2f}\"})\n",
    "formatted_Summary_stat"
   ]
  },
  {
   "cell_type": "markdown",
   "metadata": {},
   "source": [
    "## Bar Plots"
   ]
  },
  {
   "cell_type": "code",
   "execution_count": 525,
   "metadata": {},
   "outputs": [
    {
     "data": {
      "image/png": "[encoded data removed]",
      "text/plain": [
       "<Figure size 720x360 with 1 Axes>"
      ]
     },
     "metadata": {
      "needs_background": "light"
     },
     "output_type": "display_data"
    },
    {
     "data": {
      "text/plain": [
       "<Figure size 432x288 with 0 Axes>"
      ]
     },
     "metadata": {},
     "output_type": "display_data"
    }
   ],
   "source": [
    "# Generate a bar plot showing the number of mice per time point for each treatment throughout the course of the study using pandas. \n",
    "regimens = last_timepoint_data[\"Drug Regimen\"].unique()\n",
    "#mice_in_each_regimen= regimens[\"Mouse ID\"].count()\n",
    "mice_in_each_regimen=grouped_data[\"Drug Regimen\"].count()\n",
    "no_of_mice = pd.DataFrame({\"No of Data points\":mice_in_each_regimen})\n",
    "pandas_plot = no_of_mice.plot(kind=\"bar\", figsize=(10,5))\n",
    "plt.title(\"No. of mice per regimen at time point = 45\")\n",
    "plt.ylabel(\"No data points\")\n",
    "plt.show()\n",
    "plt.tight_layout()"
   ]
  },
  {
   "cell_type": "code",
   "execution_count": 526,
   "metadata": {
    "scrolled": true
   },
   "outputs": [
    {
     "data": {
      "image/png": "[encoded data removed]",
      "text/plain": [
       "<Figure size 720x360 with 1 Axes>"
      ]
     },
     "metadata": {
      "needs_background": "light"
     },
     "output_type": "display_data"
    }
   ],
   "source": [
    "# Generate a bar plot showing the number of mice per time point for each treatment throughout the course of the study using pyplot.\n",
    "\n",
    "mice_in_each_regimen\n",
    "\n",
    "x_axis = np.arange(len(regimens))\n",
    "tick_locations = [value for value in x_axis]\n",
    "plt.figure(figsize=(10,5))\n",
    "plt.xticks(tick_locations, regimens, rotation=\"vertical\")\n",
    "plt.title(\"No. of mice per regimen at time point = 45\")\n",
    "plt.ylabel(\"No data points\")\n",
    "plt.bar(x_axis, mice_in_each_regimen, width =0.5, color=\"b\", align=\"center\",label = \"No of data points\")\n",
    "plt.legend()\n",
    "plt.tight_layout()\n",
    "#mice_in_each_regimen"
   ]
  },
  {
   "cell_type": "code",
   "execution_count": null,
   "metadata": {},
   "outputs": [],
   "source": []
  },
  {
   "cell_type": "markdown",
   "metadata": {},
   "source": [
    "## Pie Plots"
   ]
  },
  {
   "cell_type": "code",
   "execution_count": 527,
   "metadata": {},
   "outputs": [
    {
     "data": {
      "text/html": [
       "<div>\n",
       "<style scoped>\n",
       "    .dataframe tbody tr th:only-of-type {\n",
       "        vertical-align: middle;\n",
       "    }\n",
       "\n",
       "    .dataframe tbody tr th {\n",
       "        vertical-align: top;\n",
       "    }\n",
       "\n",
       "    .dataframe thead th {\n",
       "        text-align: right;\n",
       "    }\n",
       "</style>\n",
       "<table border=\"1\" class=\"dataframe\">\n",
       "  <thead>\n",
       "    <tr style=\"text-align: right;\">\n",
       "      <th></th>\n",
       "      <th>Sex</th>\n",
       "      <th>No of mice</th>\n",
       "    </tr>\n",
       "  </thead>\n",
       "  <tbody>\n",
       "    <tr>\n",
       "      <th>Male</th>\n",
       "      <td>male</td>\n",
       "      <td>125</td>\n",
       "    </tr>\n",
       "    <tr>\n",
       "      <th>Female</th>\n",
       "      <td>female</td>\n",
       "      <td>124</td>\n",
       "    </tr>\n",
       "  </tbody>\n",
       "</table>\n",
       "</div>"
      ],
      "text/plain": [
       "           Sex  No of mice\n",
       "Male      male         125\n",
       "Female  female         124"
      ]
     },
     "execution_count": 527,
     "metadata": {},
     "output_type": "execute_result"
    },
    {
     "data": {
      "image/png": "[encoded data removed]",
      "text/plain": [
       "<Figure size 432x288 with 1 Axes>"
      ]
     },
     "metadata": {},
     "output_type": "display_data"
    }
   ],
   "source": [
    "# Generate a pie plot showing the distribution of female versus male mice using pandas\n",
    "#Lets group by sex\n",
    "\n",
    "\n",
    "#male = last_timepoint_data.loc[last_timepoint_data['Sex'] == 'Male']\n",
    "male = combined_mousedata_df.loc[combined_mousedata_df['Sex'] == 'Male']\n",
    "no_male = len(male[\"Mouse ID\"].unique())\n",
    "#female = last_timepoint_data.loc[last_timepoint_data['Sex'] == 'Female']\n",
    "female = combined_mousedata_df.loc[combined_mousedata_df['Sex'] == 'Female']\n",
    "no_female = len(female[\"Mouse ID\"].unique())\n",
    "no_male, no_female\n",
    "sex_a = [{\"Sex\": \"male\", \"No of mice\":no_male},\n",
    "               {\"Sex\": \"female\", \"No of mice\":no_female}]\n",
    "\n",
    "sex_df = pd.DataFrame(sex_a,index=[\"Male\",\"Female\"])\n",
    "\n",
    "#gender_df\n",
    "sex_df\n",
    "sex_df.plot(kind='pie', y = 'No of mice', autopct='%1.1f%%', startangle=0, shadow=False)\n",
    "#sex_df.plot(kind='pie',y=\"No of mice\")\n",
    "sex_df"
   ]
  },
  {
   "cell_type": "code",
   "execution_count": 528,
   "metadata": {},
   "outputs": [
    {
     "data": {
      "text/plain": [
       "(-1.1016630746735625,\n",
       " 1.1000791940320744,\n",
       " -1.1017685314144794,\n",
       " 1.1009347297692742)"
      ]
     },
     "execution_count": 528,
     "metadata": {},
     "output_type": "execute_result"
    },
    {
     "data": {
      "image/png": "[encoded data removed]",
      "text/plain": [
       "<Figure size 432x288 with 1 Axes>"
      ]
     },
     "metadata": {},
     "output_type": "display_data"
    }
   ],
   "source": [
    "# Generate a pie plot showing the distribution of female versus male mice using pyplot\n",
    "#sex_df\n",
    "labels = sex_df.index\n",
    "values = sex_df[\"No of mice\"]\n",
    "#values\n",
    "colors = [\"blue\", \"orange\"]\n",
    "plt.pie(values, labels=labels, colors=colors,autopct=\"%1.1f%%\", shadow=True, startangle=0)\n",
    "plt.legend()\n",
    "plt.axis(\"equal\")"
   ]
  },
  {
   "cell_type": "code",
   "execution_count": null,
   "metadata": {},
   "outputs": [],
   "source": []
  },
  {
   "cell_type": "markdown",
   "metadata": {},
   "source": [
    "## Quartiles, Outliers and Boxplots"
   ]
  },
  {
   "cell_type": "code",
   "execution_count": 530,
   "metadata": {},
   "outputs": [
    {
     "name": "stdout",
     "output_type": "stream",
     "text": [
      "IQR_Ramicane=  7.527130082499998\n",
      "IQR_Capomulin=  7.781863460000004\n",
      "IQR_Infubinol=  4.9311172099999965\n",
      "IQR_Ceftamin=  6.093590140000003\n",
      " \n",
      "possible outlies:\n",
      "no ouliers in Ramicane Regimen\n",
      "no ouliers in Capomulin Regimen\n",
      "no ouliers in Infubinol Regimen\n",
      "no ouliers in Ceftamin Regimen\n"
     ]
    }
   ],
   "source": [
    "# Calculate the final tumor volume of each mouse across four of the most promising treatment regimens. Calculate the IQR and quantitatively determine if there are any potential outliers. \n",
    "#I use the tumor volume at Timepoint =45\n",
    "Capomulin_df=last_timepoint_data.loc[(last_timepoint_data['Drug Regimen'] == \"Capomulin\") &\n",
    "                                    (last_timepoint_data['Timepoint'] == 45)]\n",
    "Ramicane_df=last_timepoint_data.loc[(last_timepoint_data['Drug Regimen'] == \"Ramicane\" ) &\n",
    "                                    (last_timepoint_data['Timepoint'] == 45)]\n",
    "Infubinol_df=last_timepoint_data.loc[(last_timepoint_data['Drug Regimen'] == \"Infubinol\") &\n",
    "                                    (last_timepoint_data['Timepoint'] == 45)]\n",
    "Ceftamin_df=last_timepoint_data.loc[(last_timepoint_data['Drug Regimen'] == \"Ceftamin\") &\n",
    "                                    (last_timepoint_data['Timepoint'] == 45)]\n",
    "Ramicane_df\n",
    "Capomulin_df\n",
    "Infubinol_df\n",
    "Ceftamin_df\n",
    "quartiles_Ramicane = Ramicane_df[\"Tumor Volume (mm3)\"].quantile([.25,.5,.75])\n",
    "quartiles_Capomulin = Capomulin_df[\"Tumor Volume (mm3)\"].quantile([.25,.5,.75])\n",
    "quartiles_Infubinol = Infubinol_df[\"Tumor Volume (mm3)\"].quantile([.25,.5,.75])\n",
    "quartiles_Ceftamin = Ceftamin_df[\"Tumor Volume (mm3)\"].quantile([.25,.5,.75])\n",
    "quartiles_Ramicane\n",
    "quartiles_Capomulin\n",
    "quartiles_Infubinol\n",
    "quartiles_Ceftamin\n",
    "\n",
    "#Calculating the Inter Quartile Ranges(IQRs)\n",
    "IQR_Ramicane = quartiles_Ramicane[0.75] -  quartiles_Ramicane[0.25]\n",
    "print(\"IQR_Ramicane= \",IQR_Ramicane)\n",
    "IQR_Capomulin = quartiles_Capomulin[0.75] -  quartiles_Capomulin[0.25]\n",
    "print(\"IQR_Capomulin= \",IQR_Capomulin)\n",
    "IQR_Infubinol = quartiles_Infubinol[0.75] -  quartiles_Infubinol[0.25]\n",
    "print(\"IQR_Infubinol= \",IQR_Infubinol)\n",
    "IQR_Ceftamin = quartiles_Ceftamin[0.75] -  quartiles_Ceftamin[0.25]\n",
    "print(\"IQR_Ceftamin= \",IQR_Ceftamin)\n",
    "\n",
    "#finding the outliers\n",
    "upper_Ramicane = quartiles_Ramicane[0.75]+1.5*IQR_Ramicane\n",
    "lower_Ramicane = quartiles_Ramicane[0.25]-1.5*IQR_Ramicane\n",
    "upper_Capomulin = quartiles_Capomulin[0.75]+1.5*IQR_Capomulin\n",
    "lower_Capomulin = quartiles_Capomulin[0.25]-1.5*IQR_Capomulin\n",
    "upper_Infubinol = quartiles_Infubinol[0.75]+1.5*IQR_Infubinol\n",
    "lower_Infubinol = quartiles_Infubinol[0.25]-1.5*IQR_Infubinol\n",
    "upper_Ceftamin = quartiles_Ceftamin[0.75]+1.5*IQR_Ceftamin\n",
    "lower_Ceftamin = quartiles_Ceftamin[0.25]-1.5*IQR_Ceftamin\n",
    "#print(upper_Capomulin)\n",
    "#print(lower_Capomulin)\n",
    "\n",
    "outliers_Ramicane = len(Ramicane_df.loc[(Ramicane_df['Tumor Volume (mm3)'] > upper_Ramicane) | \n",
    "                 (Ramicane_df['Tumor Volume (mm3)'] < lower_Ramicane)])\n",
    "outliers_Capomulin = len(Capomulin_df.loc[(Capomulin_df['Tumor Volume (mm3)'] > upper_Capomulin) | \n",
    "                 (Capomulin_df['Tumor Volume (mm3)'] < lower_Capomulin)])\n",
    "outliers_Infubinol = len(Infubinol_df.loc[(Infubinol_df['Tumor Volume (mm3)'] > upper_Infubinol) | \n",
    "                 (Infubinol_df['Tumor Volume (mm3)'] < lower_Infubinol)])\n",
    "outliers_Ceftamin = len(Ceftamin_df.loc[(Ceftamin_df['Tumor Volume (mm3)'] > upper_Ceftamin) | \n",
    "                 (Ceftamin_df['Tumor Volume (mm3)'] < lower_Ceftamin)])\n",
    "#print out the results\n",
    "print(\" \")\n",
    "print(\"possible outlies:\")\n",
    "if (outliers_Ramicane>0):\n",
    "    print(Ramicane_df.loc[(Ramicane_df['Tumor Volume (mm3)'] > upper_Ramicane) | \n",
    "                 (Ramicane_df['Tumor Volume (mm3)'] < lower_Ramicane)])\n",
    "else:\n",
    "        print(\"no ouliers in Ramicane Regimen\")\n",
    "if (outliers_Capomulin>0):\n",
    "    print(Capomulin_df.loc[(Capomulin_df['Tumor Volume (mm3)'] > upper_Capomulin) | \n",
    "                 (Capomulin_df['Tumor Volume (mm3)'] < lower_Capomulin)])\n",
    "else:\n",
    "        print(\"no ouliers in Capomulin Regimen\")\n",
    "if (outliers_Infubinol>0):\n",
    "    print(Infubinol_df.loc[(Infubinol_df['Tumor Volume (mm3)'] > upper_Infubinol) | \n",
    "                 (Infubinol_df['Tumor Volume (mm3)'] < lower_Infubinol)])\n",
    "else:\n",
    "        print(\"no ouliers in Infubinol Regimen\")\n",
    "if (outliers_Ceftamin>0):\n",
    "    print(Ceftamin_df.loc[(Ceftamin_df['Tumor Volume (mm3)'] > upper_Ceftamin) | \n",
    "                 (Ceftamin_df['Tumor Volume (mm3)'] < lower_Ceftamin)])\n",
    "else:\n",
    "        print(\"no ouliers in Ceftamin Regimen\")\n",
    "#print(upper_Ramicane,lower_Ramicane)\n",
    "#print(IQR_Ramicane)\n",
    "#Ramicane_df.describe()\n",
    "#Infubinol_df.describe(),lower_Infubinol"
   ]
  },
  {
   "cell_type": "code",
   "execution_count": 531,
   "metadata": {},
   "outputs": [
    {
     "data": {
      "text/plain": [
       "Text(0.5, 1.0, 'Final tumor volume of each mouse across four regimens of interest')"
      ]
     },
     "execution_count": 531,
     "metadata": {},
     "output_type": "execute_result"
    },
    {
     "data": {
      "image/png": "[encoded data removed]",
      "text/plain": [
       "<Figure size 432x288 with 1 Axes>"
      ]
     },
     "metadata": {
      "needs_background": "light"
     },
     "output_type": "display_data"
    }
   ],
   "source": [
    "# Generate a box plot of the final tumor volume of each mouse across four regimens of interest\n",
    "fig1, ax1 = plt.subplots()\n",
    "ax1.boxplot([Capomulin_df[\"Tumor Volume (mm3)\"], \n",
    "             Ramicane_df[\"Tumor Volume (mm3)\"] ,\n",
    "            Infubinol_df[\"Tumor Volume (mm3)\"],\n",
    "           Ceftamin_df[\"Tumor Volume (mm3)\"]])\n",
    "ax1.set_xticklabels(['Capomulin', 'Ramicane', 'Infubinol', 'Ceftamin'])\n",
    "ax1.set_title(\"Final tumor volume of each mouse across four regimens of interest\")\n",
    "#ax1.boxplot([Infubinol_df[\"Tumor Volume (mm3)\"],\n",
    "#           Ceftamin_df[\"Tumor Volume (mm3)\"]])\n",
    "#ax1.set_xticklabels(['Infubinol', 'Ceftamin'])"
   ]
  },
  {
   "cell_type": "markdown",
   "metadata": {},
   "source": [
    "## Line and Scatter Plots"
   ]
  },
  {
   "cell_type": "code",
   "execution_count": 532,
   "metadata": {},
   "outputs": [
    {
     "data": {
      "text/plain": [
       "Text(0, 0.5, 'Tumor Volume ($mm^3$)')"
      ]
     },
     "execution_count": 532,
     "metadata": {},
     "output_type": "execute_result"
    },
    {
     "data": {
      "image/png": "[encoded data removed]",
      "text/plain": [
       "<Figure size 432x288 with 1 Axes>"
      ]
     },
     "metadata": {
      "needs_background": "light"
     },
     "output_type": "display_data"
    }
   ],
   "source": [
    "# Generate a line plot of time point versus tumor volume for a mouse treated with Capoulin\n",
    "mouses185_df = combined_mousedata_df.loc[(combined_mousedata_df[\"Drug Regimen\"]==\"Capomulin\") & (combined_mousedata_df[\"Mouse ID\"]==\"s185\")]\n",
    "#mouse245_df = combined_mousedata_df.loc[(combined_mousedata_df[\"Drug Regimen\"]==\"Ceftamin\") & (combined_mousedata_df[\"Mouse ID\"]==\"i509\")]\n",
    "time = mouses185_df[\"Timepoint\"]\n",
    "tumor_volume = mouses185_df[\"Tumor Volume (mm3)\"]\n",
    "mouses185, = plt.plot(time, tumor_volume, color=\"blue\", label=\"Tumor Volume\")\n",
    "plt.title(\"Tumor Volume vs Time point for mouse s185 \")\n",
    "plt.xlabel(\"Time Point (arbitrary units)\")\n",
    "plt.ylabel(\"Tumor Volume ($mm^3$)\")\n",
    "#mouses185_df"
   ]
  },
  {
   "cell_type": "code",
   "execution_count": null,
   "metadata": {},
   "outputs": [],
   "source": []
  },
  {
   "cell_type": "code",
   "execution_count": 533,
   "metadata": {},
   "outputs": [
    {
     "data": {
      "text/plain": [
       "Text(0.5, 1.0, 'Mouse Weight vs Average Tumor Volume ')"
      ]
     },
     "execution_count": 533,
     "metadata": {},
     "output_type": "execute_result"
    },
    {
     "data": {
      "image/png": "[encoded data removed]",
      "text/plain": [
       "<Figure size 432x288 with 1 Axes>"
      ]
     },
     "metadata": {
      "needs_background": "light"
     },
     "output_type": "display_data"
    }
   ],
   "source": [
    "# Generate a scatter plot of mouse weight versus average tumor volume for the Capomulin regimen\n",
    "Ceftamin= combined_mousedata_df.loc[(combined_mousedata_df[\"Drug Regimen\"]==\"Capomulin\")]\n",
    "#weight = Ceftamin[\"Weight (g)\"].unique()\n",
    "Ceftamin1= Ceftamin.groupby('Mouse ID')\n",
    "mean1 = Ceftamin1[\"Tumor Volume (mm3)\"].mean()\n",
    "#Ceftamin.plot(kind=\"scatter\", x=weight, y=mean1, grid=True, figsize=(8,8),\n",
    "#              title=\"weight vs average tumor volume \")\n",
    "weight = Ceftamin1[\"Weight (g)\"].mean()\n",
    "#plt.plot(kind=\"scatter\", x=weight, y=mean1, grid=True, figsize=(8,8),title=\"weight vs average tumor volume\")\n",
    "plt.scatter(mean1,weight)\n",
    "plt.ylabel(\"Mouse weight(g)\")\n",
    "plt.xlabel(\"Average Tumor Volume ($mm^3$)\");\n",
    "plt.title(\"Mouse Weight vs Average Tumor Volume \")"
   ]
  },
  {
   "cell_type": "markdown",
   "metadata": {},
   "source": [
    "## Correlation and Regression"
   ]
  },
  {
   "cell_type": "code",
   "execution_count": 536,
   "metadata": {},
   "outputs": [
    {
     "name": "stdout",
     "output_type": "stream",
     "text": [
      "The correlation between the weight and the average tumor volume is 0.84\n"
     ]
    }
   ],
   "source": [
    "# Calculate the correlation coefficient and linear regression model \n",
    "# for mouse weight and average tumor volume for the Capomulin regimen\n",
    "correlation = st.pearsonr(mean1,weight)\n",
    "print(f\"The correlation between the weight and the average tumor volume is {round(correlation[0],2)}\")"
   ]
  },
  {
   "cell_type": "code",
   "execution_count": 537,
   "metadata": {},
   "outputs": [
    {
     "data": {
      "image/png": "[encoded data removed]",
      "text/plain": [
       "<Figure size 432x288 with 1 Axes>"
      ]
     },
     "metadata": {
      "needs_background": "light"
     },
     "output_type": "display_data"
    }
   ],
   "source": [
    "plt.scatter(mean1,weight)\n",
    "plt.ylabel(\"Mouse weight(g)\")\n",
    "plt.xlabel(\"Average Tumor Volume ($mm^3$)\");\n",
    "plt.title(\"Mouse Weight vs Average Tumor Volume \")\n",
    "#linear Regression\n",
    "(slope, intercept, rvalue, pvalue, stderr) = linregress(mean1, weight)\n",
    "line = mean1* slope + intercept\n",
    "line_eq = \"y = \" + str(round(slope,2)) + \"x + \" + str(round(intercept,2))\n",
    "plt.plot(mean1,line,\"r-\")\n",
    "plt.annotate(line_eq,(50,26.5),fontsize=15,color=\"red\")\n",
    "plt.show()"
   ]
  }
 ],
 "metadata": {
  "anaconda-cloud": {},
  "kernelspec": {
   "display_name": "pythondata",
   "language": "python",
   "name": "pythondata"
  },
  "language_info": {
   "codemirror_mode": {
    "name": "ipython",
    "version": 3
   },
   "file_extension": ".py",
   "mimetype": "text/x-python",
   "name": "python",
   "nbconvert_exporter": "python",
   "pygments_lexer": "ipython3",
   "version": "3.6.10"
  }
 },
 "nbformat": 4,
 "nbformat_minor": 2
}
